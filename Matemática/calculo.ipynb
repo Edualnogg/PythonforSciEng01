{
  "metadata": {
    "language_info": {
      "codemirror_mode": {
        "name": "python",
        "version": 3
      },
      "file_extension": ".py",
      "mimetype": "text/x-python",
      "name": "python",
      "nbconvert_exporter": "python",
      "pygments_lexer": "ipython3",
      "version": "3.8"
    },
    "kernelspec": {
      "name": "python",
      "display_name": "Pyolite",
      "language": "python"
    },
    "widgets": {
      "application/vnd.jupyter.widget-state+json": {
        "version_major": 2,
        "version_minor": 0,
        "state": {}
      }
    }
  },
  "nbformat_minor": 4,
  "nbformat": 4,
  "cells": [
    {
      "cell_type": "markdown",
      "source": "Derivada diff( função,variável )\n\nIntegral integrate( função,(variável,início,fim ))\n\nLimites  limit(f(x), x, x0)  ---> |||| f(x); onde x-->x0 ||||\n\n",
      "metadata": {}
    },
    {
      "cell_type": "markdown",
      "source": "                                               LIMITES",
      "metadata": {}
    },
    {
      "cell_type": "code",
      "source": "import sympy as sp\n\nx = sp.symbols('x')\n\nL = sp.limit((1/x), x, 0)\nL",
      "metadata": {
        "trusted": true
      },
      "execution_count": 1,
      "outputs": [
        {
          "execution_count": 1,
          "output_type": "execute_result",
          "data": {
            "text/plain": "oo",
            "text/latex": "$\\displaystyle \\infty$"
          },
          "metadata": {}
        }
      ]
    },
    {
      "cell_type": "code",
      "source": "LL = sp.limit((sp.sin(x)/x), x, 0)\nLL",
      "metadata": {
        "trusted": true
      },
      "execution_count": 15,
      "outputs": [
        {
          "execution_count": 15,
          "output_type": "execute_result",
          "data": {
            "text/plain": "1",
            "text/latex": "$\\displaystyle 1$"
          },
          "metadata": {}
        }
      ]
    },
    {
      "cell_type": "code",
      "source": "trig = sp.limit(sp.cos(x) - 1, x, 0)\ntrig",
      "metadata": {
        "trusted": true
      },
      "execution_count": 16,
      "outputs": [
        {
          "execution_count": 16,
          "output_type": "execute_result",
          "data": {
            "text/plain": "0",
            "text/latex": "$\\displaystyle 0$"
          },
          "metadata": {}
        }
      ]
    },
    {
      "cell_type": "markdown",
      "source": "OBS:\n\nNo sympy o pi é considerado como objeto, porém não irá interferir nos cálculos, também dá\npra importar o valor float de pi das outras bibliotecas:",
      "metadata": {}
    },
    {
      "cell_type": "code",
      "source": "a = sp.pi\na",
      "metadata": {
        "trusted": true
      },
      "execution_count": 13,
      "outputs": [
        {
          "execution_count": 13,
          "output_type": "execute_result",
          "data": {
            "text/plain": "pi",
            "text/latex": "$\\displaystyle \\pi$"
          },
          "metadata": {}
        }
      ]
    },
    {
      "cell_type": "code",
      "source": "b = sp.pi*2 + sp.pi*198\nb",
      "metadata": {
        "trusted": true
      },
      "execution_count": 14,
      "outputs": [
        {
          "execution_count": 14,
          "output_type": "execute_result",
          "data": {
            "text/plain": "200*pi",
            "text/latex": "$\\displaystyle 200 \\pi$"
          },
          "metadata": {}
        }
      ]
    },
    {
      "cell_type": "markdown",
      "source": "                                              DERIVADA",
      "metadata": {}
    },
    {
      "cell_type": "code",
      "source": "x,y = sp.symbols(['x','y'])\n\nf_x = sp.sin(x)\n",
      "metadata": {
        "trusted": true
      },
      "execution_count": 17,
      "outputs": [
        {
          "execution_count": 17,
          "output_type": "execute_result",
          "data": {
            "text/plain": "sin(x)",
            "text/latex": "$\\displaystyle \\sin{\\left(x \\right)}$"
          },
          "metadata": {}
        }
      ]
    },
    {
      "cell_type": "code",
      "source": "dfdx = sp.diff(f_x, x) #retorna a derivada de sin(x)\ndfdx",
      "metadata": {
        "trusted": true
      },
      "execution_count": 18,
      "outputs": [
        {
          "execution_count": 18,
          "output_type": "execute_result",
          "data": {
            "text/plain": "cos(x)",
            "text/latex": "$\\displaystyle \\cos{\\left(x \\right)}$"
          },
          "metadata": {}
        }
      ]
    },
    {
      "cell_type": "code",
      "source": "df2dx2 = sp.diff(f_x, x, x) #derivada sucessiva |||(no caso a derivada do cos(x))|||\ndf2dx2",
      "metadata": {
        "trusted": true
      },
      "execution_count": 19,
      "outputs": [
        {
          "execution_count": 19,
          "output_type": "execute_result",
          "data": {
            "text/plain": "-sin(x)",
            "text/latex": "$\\displaystyle - \\sin{\\left(x \\right)}$"
          },
          "metadata": {}
        }
      ]
    },
    {
      "cell_type": "code",
      "source": "#para derivadas parciais\n\n# x**2 + y**2 = 100    ;portanto  ---> x**2 + y**2 - 100\n\nf_x_y = x**2 + y**2 - 100\ndfdy = sp.diff(f_x_y, y) #a derivada parcial\ndfdy",
      "metadata": {
        "trusted": true
      },
      "execution_count": 20,
      "outputs": [
        {
          "execution_count": 20,
          "output_type": "execute_result",
          "data": {
            "text/plain": "2*y",
            "text/latex": "$\\displaystyle 2 y$"
          },
          "metadata": {}
        }
      ]
    },
    {
      "cell_type": "markdown",
      "source": "                                            INTEGRAL",
      "metadata": {}
    },
    {
      "cell_type": "code",
      "source": "f_x2 = sp.sin(x)**2\n\nint_f_x2 = sp.integrate(f_x2, x) #integral indefinida (f(x), (variável que deseja integrar))\nint_f_x2 #irá faltar a constante de integração C",
      "metadata": {
        "trusted": true
      },
      "execution_count": 21,
      "outputs": [
        {
          "execution_count": 21,
          "output_type": "execute_result",
          "data": {
            "text/plain": "x/2 - sin(x)*cos(x)/2",
            "text/latex": "$\\displaystyle \\frac{x}{2} - \\frac{\\sin{\\left(x \\right)} \\cos{\\left(x \\right)}}{2}$"
          },
          "metadata": {}
        }
      ]
    },
    {
      "cell_type": "code",
      "source": "#a solução é criar uma constante:\n\nC = sp.symbols('C')\n\nint_f_x2 = sp.integrate(f_x2, x) #integral indefinida (f(x), (variável que deseja integrar))\nint_f_x2 += C\n\nint_f_x2",
      "metadata": {
        "trusted": true
      },
      "execution_count": 26,
      "outputs": [
        {
          "execution_count": 26,
          "output_type": "execute_result",
          "data": {
            "text/plain": "C + x/2 - sin(x)*cos(x)/2",
            "text/latex": "$\\displaystyle C + \\frac{x}{2} - \\frac{\\sin{\\left(x \\right)} \\cos{\\left(x \\right)}}{2}$"
          },
          "metadata": {}
        }
      ]
    },
    {
      "cell_type": "code",
      "source": "f_x3 = sp.exp(-x) #exp é o log e elevado na variável\nf_x3",
      "metadata": {
        "trusted": true
      },
      "execution_count": 27,
      "outputs": [
        {
          "execution_count": 27,
          "output_type": "execute_result",
          "data": {
            "text/plain": "exp(-x)",
            "text/latex": "$\\displaystyle e^{- x}$"
          },
          "metadata": {}
        }
      ]
    },
    {
      "cell_type": "code",
      "source": "sp.integrate(f_x3, (x, 0, sp.oo)) #integral definida (0; oo)",
      "metadata": {
        "trusted": true
      },
      "execution_count": 28,
      "outputs": [
        {
          "execution_count": 28,
          "output_type": "execute_result",
          "data": {
            "text/plain": "1",
            "text/latex": "$\\displaystyle 1$"
          },
          "metadata": {}
        }
      ]
    }
  ]
}