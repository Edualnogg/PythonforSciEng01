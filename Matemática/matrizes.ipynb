{
  "metadata": {
    "language_info": {
      "codemirror_mode": {
        "name": "python",
        "version": 3
      },
      "file_extension": ".py",
      "mimetype": "text/x-python",
      "name": "python",
      "nbconvert_exporter": "python",
      "pygments_lexer": "ipython3",
      "version": "3.8"
    },
    "kernelspec": {
      "name": "python",
      "display_name": "Pyolite",
      "language": "python"
    },
    "widgets": {
      "application/vnd.jupyter.widget-state+json": {
        "version_major": 2,
        "version_minor": 0,
        "state": {}
      }
    }
  },
  "nbformat_minor": 4,
  "nbformat": 4,
  "cells": [
    {
      "cell_type": "code",
      "source": "import sympy as sp\n\nA = sp.Matrix([[1,2,3,4], [3,6,5,9]]) #Matrix([[linha 1],[linha 2]])\n\nA",
      "metadata": {
        "trusted": true
      },
      "execution_count": 4,
      "outputs": [
        {
          "execution_count": 4,
          "output_type": "execute_result",
          "data": {
            "text/plain": "Matrix([\n[1, 2, 3, 4],\n[3, 6, 5, 9]])",
            "text/latex": "$\\displaystyle \\left[\\begin{matrix}1 & 2 & 3 & 4\\\\3 & 6 & 5 & 9\\end{matrix}\\right]$"
          },
          "metadata": {}
        }
      ]
    },
    {
      "cell_type": "code",
      "source": "A.shape #retorna o número de linha e de colunas, respectivamente",
      "metadata": {
        "trusted": true
      },
      "execution_count": 5,
      "outputs": [
        {
          "execution_count": 5,
          "output_type": "execute_result",
          "data": {
            "text/plain": "(2, 4)"
          },
          "metadata": {}
        }
      ]
    },
    {
      "cell_type": "code",
      "source": "B = sp.Matrix([[2,9,7,5]])\nB",
      "metadata": {
        "trusted": true
      },
      "execution_count": 7,
      "outputs": [
        {
          "execution_count": 7,
          "output_type": "execute_result",
          "data": {
            "text/plain": "Matrix([[2, 9, 7, 5]])",
            "text/latex": "$\\displaystyle \\left[\\begin{matrix}2 & 9 & 7 & 5\\end{matrix}\\right]$"
          },
          "metadata": {}
        }
      ]
    },
    {
      "cell_type": "code",
      "source": "B = sp.Matrix([[2,9,7,5]]).T #retorna a matriz transposta\nB",
      "metadata": {
        "trusted": true
      },
      "execution_count": 9,
      "outputs": [
        {
          "execution_count": 9,
          "output_type": "execute_result",
          "data": {
            "text/plain": "Matrix([\n[2],\n[9],\n[7],\n[5]])",
            "text/latex": "$\\displaystyle \\left[\\begin{matrix}2\\\\9\\\\7\\\\5\\end{matrix}\\right]$"
          },
          "metadata": {}
        }
      ]
    },
    {
      "cell_type": "markdown",
      "source": "eye(x) #matriz identidade com a diagonal = 1  // x = a ordem da matriz\n\nzeros(i,j) #matriz onde todos os elementos são zeros\n\nones(i,j) #matriz onde todos os elementos são um",
      "metadata": {}
    },
    {
      "cell_type": "code",
      "source": "sp.eye(3)",
      "metadata": {
        "trusted": true
      },
      "execution_count": 10,
      "outputs": [
        {
          "execution_count": 10,
          "output_type": "execute_result",
          "data": {
            "text/plain": "Matrix([\n[1, 0, 0],\n[0, 1, 0],\n[0, 0, 1]])",
            "text/latex": "$\\displaystyle \\left[\\begin{matrix}1 & 0 & 0\\\\0 & 1 & 0\\\\0 & 0 & 1\\end{matrix}\\right]$"
          },
          "metadata": {}
        }
      ]
    },
    {
      "cell_type": "code",
      "source": "sp.zeros(3) #é bom pra usar em um looping para ir preenchendo",
      "metadata": {
        "trusted": true
      },
      "execution_count": 11,
      "outputs": [
        {
          "execution_count": 11,
          "output_type": "execute_result",
          "data": {
            "text/plain": "Matrix([\n[0, 0, 0],\n[0, 0, 0],\n[0, 0, 0]])",
            "text/latex": "$\\displaystyle \\left[\\begin{matrix}0 & 0 & 0\\\\0 & 0 & 0\\\\0 & 0 & 0\\end{matrix}\\right]$"
          },
          "metadata": {}
        }
      ]
    },
    {
      "cell_type": "code",
      "source": "sp.ones(3)",
      "metadata": {
        "trusted": true
      },
      "execution_count": 12,
      "outputs": [
        {
          "execution_count": 12,
          "output_type": "execute_result",
          "data": {
            "text/plain": "Matrix([\n[1, 1, 1],\n[1, 1, 1],\n[1, 1, 1]])",
            "text/latex": "$\\displaystyle \\left[\\begin{matrix}1 & 1 & 1\\\\1 & 1 & 1\\\\1 & 1 & 1\\end{matrix}\\right]$"
          },
          "metadata": {}
        }
      ]
    },
    {
      "cell_type": "code",
      "source": "lista_E = [1,2,3]\n\nE = sp.diag(lista_E) #vai dar um errinho, ele não dará a diagonal\nE",
      "metadata": {
        "trusted": true
      },
      "execution_count": 13,
      "outputs": [
        {
          "execution_count": 13,
          "output_type": "execute_result",
          "data": {
            "text/plain": "Matrix([\n[1],\n[2],\n[3]])",
            "text/latex": "$\\displaystyle \\left[\\begin{matrix}1\\\\2\\\\3\\end{matrix}\\right]$"
          },
          "metadata": {}
        }
      ]
    },
    {
      "cell_type": "markdown",
      "source": "para corrigir o erro acima, basta:",
      "metadata": {}
    },
    {
      "cell_type": "code",
      "source": "E = sp.diag(lista_E, unpack=True) #ou E = sp.diag(*lista_E)\nE",
      "metadata": {
        "trusted": true
      },
      "execution_count": 14,
      "outputs": [
        {
          "execution_count": 14,
          "output_type": "execute_result",
          "data": {
            "text/plain": "Matrix([\n[1, 0, 0],\n[0, 2, 0],\n[0, 0, 3]])",
            "text/latex": "$\\displaystyle \\left[\\begin{matrix}1 & 0 & 0\\\\0 & 2 & 0\\\\0 & 0 & 3\\end{matrix}\\right]$"
          },
          "metadata": {}
        }
      ]
    },
    {
      "cell_type": "code",
      "source": "2*E",
      "metadata": {
        "trusted": true
      },
      "execution_count": 20,
      "outputs": [
        {
          "execution_count": 20,
          "output_type": "execute_result",
          "data": {
            "text/plain": "Matrix([\n[2, 0, 0],\n[0, 4, 0],\n[0, 0, 6]])",
            "text/latex": "$\\displaystyle \\left[\\begin{matrix}2 & 0 & 0\\\\0 & 4 & 0\\\\0 & 0 & 6\\end{matrix}\\right]$"
          },
          "metadata": {}
        }
      ]
    },
    {
      "cell_type": "code",
      "source": "C = sp.Matrix([[2,5],[9,3]])\nC",
      "metadata": {
        "trusted": true
      },
      "execution_count": 32,
      "outputs": [
        {
          "execution_count": 32,
          "output_type": "execute_result",
          "data": {
            "text/plain": "Matrix([\n[2, 5],\n[9, 3]])",
            "text/latex": "$\\displaystyle \\left[\\begin{matrix}2 & 5\\\\9 & 3\\end{matrix}\\right]$"
          },
          "metadata": {}
        }
      ]
    },
    {
      "cell_type": "code",
      "source": "C**(-1) #a inversa da matriz C",
      "metadata": {
        "trusted": true
      },
      "execution_count": 33,
      "outputs": [
        {
          "execution_count": 33,
          "output_type": "execute_result",
          "data": {
            "text/plain": "Matrix([\n[-1/13,  5/39],\n[ 3/13, -2/39]])",
            "text/latex": "$\\displaystyle \\left[\\begin{matrix}- \\frac{1}{13} & \\frac{5}{39}\\\\\\frac{3}{13} & - \\frac{2}{39}\\end{matrix}\\right]$"
          },
          "metadata": {}
        }
      ]
    },
    {
      "cell_type": "code",
      "source": "C.det() #calcula a determinante de C",
      "metadata": {
        "trusted": true
      },
      "execution_count": 34,
      "outputs": [
        {
          "execution_count": 34,
          "output_type": "execute_result",
          "data": {
            "text/plain": "-39",
            "text/latex": "$\\displaystyle -39$"
          },
          "metadata": {}
        }
      ]
    },
    {
      "cell_type": "code",
      "source": "# EXEMPLO DE SISTEMA LINEAR\n\nx1,x2,x3 = sp.symbols(['x1','x2','x3'])\n\nX = sp.Matrix([x1,x2,x3])\nE = sp.Matrix([[1,2,3],[4,5,6],[7,8,9]])\nR = sp.Matrix([11,22,33])\n\n# E.X = R\nE*X",
      "metadata": {
        "trusted": true
      },
      "execution_count": 40,
      "outputs": [
        {
          "execution_count": 40,
          "output_type": "execute_result",
          "data": {
            "text/plain": "Matrix([\n[  x1 + 2*x2 + 3*x3],\n[4*x1 + 5*x2 + 6*x3],\n[7*x1 + 8*x2 + 9*x3]])",
            "text/latex": "$\\displaystyle \\left[\\begin{matrix}x_{1} + 2 x_{2} + 3 x_{3}\\\\4 x_{1} + 5 x_{2} + 6 x_{3}\\\\7 x_{1} + 8 x_{2} + 9 x_{3}\\end{matrix}\\right]$"
          },
          "metadata": {}
        }
      ]
    },
    {
      "cell_type": "code",
      "source": "# arrumando pra ser aceito no sympy --> E.X - R\n\nE*X - R",
      "metadata": {
        "trusted": true
      },
      "execution_count": 41,
      "outputs": [
        {
          "execution_count": 41,
          "output_type": "execute_result",
          "data": {
            "text/plain": "Matrix([\n[  x1 + 2*x2 + 3*x3 - 11],\n[4*x1 + 5*x2 + 6*x3 - 22],\n[7*x1 + 8*x2 + 9*x3 - 33]])",
            "text/latex": "$\\displaystyle \\left[\\begin{matrix}x_{1} + 2 x_{2} + 3 x_{3} - 11\\\\4 x_{1} + 5 x_{2} + 6 x_{3} - 22\\\\7 x_{1} + 8 x_{2} + 9 x_{3} - 33\\end{matrix}\\right]$"
          },
          "metadata": {}
        }
      ]
    }
  ]
}