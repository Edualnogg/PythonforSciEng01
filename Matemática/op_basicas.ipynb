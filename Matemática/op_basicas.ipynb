{
  "metadata": {
    "language_info": {
      "codemirror_mode": {
        "name": "python",
        "version": 3
      },
      "file_extension": ".py",
      "mimetype": "text/x-python",
      "name": "python",
      "nbconvert_exporter": "python",
      "pygments_lexer": "ipython3",
      "version": "3.8"
    },
    "kernelspec": {
      "name": "python",
      "display_name": "Pyolite",
      "language": "python"
    },
    "widgets": {
      "application/vnd.jupyter.widget-state+json": {
        "version_major": 2,
        "version_minor": 0,
        "state": {}
      }
    }
  },
  "nbformat_minor": 4,
  "nbformat": 4,
  "cells": [
    {
      "cell_type": "markdown",
      "source": "                                          SIMPLIFICAÇÃO",
      "metadata": {}
    },
    {
      "cell_type": "markdown",
      "source": "O método simplify() pode não ser tão preciso, portando, usar esses abaixo dependendo do caso.",
      "metadata": {}
    },
    {
      "cell_type": "code",
      "source": "import sympy as sp\n\nsp.expand(2*(x + y)**2) #expande a equação polinomial\n",
      "metadata": {
        "trusted": true
      },
      "execution_count": 30,
      "outputs": [
        {
          "execution_count": 30,
          "output_type": "execute_result",
          "data": {
            "text/plain": "2*x**2 + 4*x*y + 2*y**2",
            "text/latex": "$\\displaystyle 2 x^{2} + 4 x y + 2 y^{2}$"
          },
          "metadata": {}
        }
      ]
    },
    {
      "cell_type": "code",
      "source": "sp.factor(2*x**2 + 4*x*y + 2*y**2) #fatora o polinômio",
      "metadata": {
        "trusted": true
      },
      "execution_count": 35,
      "outputs": [
        {
          "execution_count": 35,
          "output_type": "execute_result",
          "data": {
            "text/plain": "2*(x + y)**2",
            "text/latex": "$\\displaystyle 2 \\left(x + y\\right)^{2}$"
          },
          "metadata": {}
        }
      ]
    },
    {
      "cell_type": "code",
      "source": "sp.factor_list(2*x**2 + 4*x*y + 2*y**2) #retorna uma fatoração mais estruturada",
      "metadata": {
        "trusted": true
      },
      "execution_count": 36,
      "outputs": [
        {
          "execution_count": 36,
          "output_type": "execute_result",
          "data": {
            "text/plain": "(2, [(x + y, 2)])"
          },
          "metadata": {}
        }
      ]
    },
    {
      "cell_type": "code",
      "source": "expr = 3*x**2 + 6*x - 3*y\n\nevidencia = sp.collect(expr, x)\nevidencia.coeff(x, 2) #me da o coeficiente do x que está elevado ao respectivo valor",
      "metadata": {
        "trusted": true
      },
      "execution_count": 52,
      "outputs": [
        {
          "execution_count": 52,
          "output_type": "execute_result",
          "data": {
            "text/plain": "3",
            "text/latex": "$\\displaystyle 3$"
          },
          "metadata": {}
        }
      ]
    },
    {
      "cell_type": "code",
      "source": "equacao = (x**2 + 2*x + 1)/(x**2 + x)\nequacao",
      "metadata": {
        "trusted": true
      },
      "execution_count": 53,
      "outputs": [
        {
          "execution_count": 53,
          "output_type": "execute_result",
          "data": {
            "text/plain": "(x**2 + 2*x + 1)/(x**2 + x)",
            "text/latex": "$\\displaystyle \\frac{x^{2} + 2 x + 1}{x^{2} + x}$"
          },
          "metadata": {}
        }
      ]
    },
    {
      "cell_type": "code",
      "source": "sp.cancel((x**2 + 2*x + 1)/(x**2 + x)) #faz essa fatoração em relação a de cima (magnífico)",
      "metadata": {
        "trusted": true
      },
      "execution_count": 55,
      "outputs": [
        {
          "execution_count": 55,
          "output_type": "execute_result",
          "data": {
            "text/plain": "(x + 1)/x",
            "text/latex": "$\\displaystyle \\frac{x + 1}{x}$"
          },
          "metadata": {}
        }
      ]
    },
    {
      "cell_type": "code",
      "source": "sp.factor((x**2 + 2*x + 1)/(x**2 + x)) #o factor também pode fatorar essa divisão de polinômios",
      "metadata": {
        "trusted": true
      },
      "execution_count": 56,
      "outputs": [
        {
          "execution_count": 56,
          "output_type": "execute_result",
          "data": {
            "text/plain": "(x + 1)/x",
            "text/latex": "$\\displaystyle \\frac{x + 1}{x}$"
          },
          "metadata": {}
        }
      ]
    },
    {
      "cell_type": "code",
      "source": "sp.expand((x**2 + 2*x + 1)/(x**2 + x)) #pode trazer outra maneira de ver a função",
      "metadata": {
        "trusted": true
      },
      "execution_count": 60,
      "outputs": [
        {
          "execution_count": 60,
          "output_type": "execute_result",
          "data": {
            "text/plain": "x**2/(x**2 + x) + 2*x/(x**2 + x) + 1/(x**2 + x)",
            "text/latex": "$\\displaystyle \\frac{x^{2}}{x^{2} + x} + \\frac{2 x}{x^{2} + x} + \\frac{1}{x^{2} + x}$"
          },
          "metadata": {}
        }
      ]
    },
    {
      "cell_type": "code",
      "source": "sp.apart(equacao)  #apart()executa uma decomposição de fração parcial em uma função racional.",
      "metadata": {
        "trusted": true
      },
      "execution_count": 62,
      "outputs": [
        {
          "execution_count": 62,
          "output_type": "execute_result",
          "data": {
            "text/plain": "1 + 1/x",
            "text/latex": "$\\displaystyle 1 + \\frac{1}{x}$"
          },
          "metadata": {}
        }
      ]
    },
    {
      "cell_type": "markdown",
      "source": "                                    SIMPLIFICAÇÃO TRIGONOMÉTRICA",
      "metadata": {}
    },
    {
      "cell_type": "code",
      "source": "#Para simplificar expressões usando identidades trigonométricas, use trigsimp()\n\nsp.trigsimp(sp.sin(x)**2 + sp.cos(x)**2) #retorna 1\n\n#o mesmo funciona para as funções hiperbólicas ",
      "metadata": {
        "trusted": true
      },
      "execution_count": 41,
      "outputs": [
        {
          "execution_count": 41,
          "output_type": "execute_result",
          "data": {
            "text/plain": "1",
            "text/latex": "$\\displaystyle 1$"
          },
          "metadata": {}
        }
      ]
    },
    {
      "cell_type": "markdown",
      "source": "Para expandir funções trigonométricas, ou seja, aplicar a soma ou identidades de ângulo duplo, use expand_trig().\n\nEX: \n\nexpand_trig(sin(x + y))",
      "metadata": {}
    },
    {
      "cell_type": "markdown",
      "source": "                                SIMPLIFICAÇÃO DE POTÊNCIAS",
      "metadata": {}
    },
    {
      "cell_type": "markdown",
      "source": "IDENTIDADES BÁSICAS DE POTENCIAÇÃO\n\n(1) x**2 * x**3 -----> 2 + 3 = 5\n\n(2) x**2 * y**2 -----> (xy)**2\n\n(3) (x**a)**b -----> x**(a*b)",
      "metadata": {}
    },
    {
      "cell_type": "code",
      "source": "#powsimp()aplica as identidades 1 e 2 de cima, da esquerda para a direita.\n\n#atribuir condições necessárias para as operações\n\nx,y = sp.symbols('x y', positive=True)\na,b = sp.symbols('a b', real=True)\nz,t,c = sp.symbols('z t c')\n\nsp.powsimp(x**a*x**b)",
      "metadata": {
        "trusted": true
      },
      "execution_count": 79,
      "outputs": [
        {
          "execution_count": 79,
          "output_type": "execute_result",
          "data": {
            "text/plain": "x**(a + b)",
            "text/latex": "$\\displaystyle x^{a + b}$"
          },
          "metadata": {}
        }
      ]
    },
    {
      "cell_type": "code",
      "source": "sp.powsimp(x**4*x**2)",
      "metadata": {
        "trusted": true
      },
      "execution_count": 82,
      "outputs": [
        {
          "execution_count": 82,
          "output_type": "execute_result",
          "data": {
            "text/plain": "x**6",
            "text/latex": "$\\displaystyle x^{6}$"
          },
          "metadata": {}
        }
      ]
    },
    {
      "cell_type": "code",
      "source": "sp.powsimp(x**a*y**a)",
      "metadata": {
        "trusted": true
      },
      "execution_count": 84,
      "outputs": [
        {
          "execution_count": 84,
          "output_type": "execute_result",
          "data": {
            "text/plain": "(x*y)**a",
            "text/latex": "$\\displaystyle \\left(x y\\right)^{a}$"
          },
          "metadata": {}
        }
      ]
    },
    {
      "cell_type": "code",
      "source": "sp.powsimp(x**2*y**2)",
      "metadata": {
        "trusted": true
      },
      "execution_count": 87,
      "outputs": [
        {
          "execution_count": 87,
          "output_type": "execute_result",
          "data": {
            "text/plain": "x**2*y**2",
            "text/latex": "$\\displaystyle x^{2} y^{2}$"
          },
          "metadata": {}
        }
      ]
    },
    {
      "cell_type": "code",
      "source": "sp.powsimp(t**c*z**c) #aqui dará erro, devido as condições que atribui",
      "metadata": {
        "trusted": true
      },
      "execution_count": null,
      "outputs": []
    },
    {
      "cell_type": "code",
      "source": "#porém, dá pra forçar\n\nsp.powsimp(t**c*z**c, force=True)",
      "metadata": {
        "trusted": true
      },
      "execution_count": null,
      "outputs": []
    },
    {
      "cell_type": "markdown",
      "source": "                                   Exponenciais e logaritmos",
      "metadata": {}
    },
    {
      "cell_type": "markdown",
      "source": "Os logaritmos têm problemas semelhantes aos poderes. Existem duas identidades principais:\n\nLog(xy) = Log (x) + Log (y)\n\nLog(x**n) = n.Log (x)",
      "metadata": {}
    },
    {
      "cell_type": "markdown",
      "source": "Para aplicar as identidades 1 e 2 da esquerda para a direita, use expand_log().",
      "metadata": {}
    },
    {
      "cell_type": "code",
      "source": "import sympy as sp\nfrom math import log\n\n#atribuindo as condições da existência do log\nx,y = sp.symbols('x y', positive=True)\nn = sp.symbols('n', real=True)\n\nlog(x, force=True)\n",
      "metadata": {
        "trusted": true
      },
      "execution_count": null,
      "outputs": []
    },
    {
      "cell_type": "code",
      "source": "sp.gamma(x) #usa o simbolo de gamma ",
      "metadata": {
        "trusted": true
      },
      "execution_count": 23,
      "outputs": [
        {
          "execution_count": 23,
          "output_type": "execute_result",
          "data": {
            "text/plain": "gamma(x)",
            "text/latex": "$\\displaystyle \\Gamma\\left(x\\right)$"
          },
          "metadata": {}
        }
      ]
    },
    {
      "cell_type": "markdown",
      "source": "Para reescrever uma expressão em termos de uma função, use expr.rewrite(function). Por exemplo,",
      "metadata": {}
    }
  ]
}